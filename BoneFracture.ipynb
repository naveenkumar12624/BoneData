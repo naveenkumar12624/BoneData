{
  "nbformat": 4,
  "nbformat_minor": 0,
  "metadata": {
    "colab": {
      "provenance": [],
      "authorship_tag": "ABX9TyNl+mEdMvjMXiMCp4lFywl1",
      "include_colab_link": true
    },
    "kernelspec": {
      "name": "python3",
      "display_name": "Python 3"
    },
    "language_info": {
      "name": "python"
    },
    "accelerator": "TPU"
  },
  "cells": [
    {
      "cell_type": "markdown",
      "metadata": {
        "id": "view-in-github",
        "colab_type": "text"
      },
      "source": [
        "<a href=\"https://colab.research.google.com/github/naveenkumar12624/BoneData/blob/main/BoneFracture.ipynb\" target=\"_parent\"><img src=\"https://colab.research.google.com/assets/colab-badge.svg\" alt=\"Open In Colab\"/></a>"
      ]
    },
    {
      "cell_type": "code",
      "execution_count": null,
      "metadata": {
        "colab": {
          "base_uri": "https://localhost:8080/"
        },
        "id": "61D7X4R5r2Rs",
        "outputId": "c0108c2e-fa02-438b-d936-6af809baa9ae"
      },
      "outputs": [
        {
          "output_type": "stream",
          "name": "stdout",
          "text": [
            "Cloning into 'BoneData'...\n",
            "remote: Enumerating objects: 9349, done.\u001b[K\n",
            "remote: Total 9349 (delta 0), reused 0 (delta 0), pack-reused 9349\u001b[K\n",
            "Receiving objects: 100% (9349/9349), 168.02 MiB | 28.16 MiB/s, done.\n",
            "Updating files: 100% (9463/9463), done.\n",
            "/content/BoneData\n"
          ]
        }
      ],
      "source": [
        "!git clone https://github.com/naveenkumar12624/BoneData.git\n",
        "%cd BoneData"
      ]
    },
    {
      "cell_type": "code",
      "source": [
        "import tensorflow as tf\n",
        "from tensorflow import keras\n",
        "from tensorflow.keras.preprocessing.image import ImageDataGenerator\n",
        "from tensorflow.keras.layers import Conv2D, MaxPooling2D, Flatten, Dense\n",
        "from tensorflow.keras.models import Sequential\n",
        "from sklearn.model_selection import train_test_split\n",
        "from tensorflow.keras.callbacks import EarlyStopping, ModelCheckpoint\n",
        "\n",
        "# Define data directories\n",
        "data_dir = \"//content//BoneData//Data\"\n",
        "train_dir = data_dir\n",
        "image_size = (150, 150)\n",
        "batch_size = 128\n",
        "\n",
        "# Data Augmentation\n",
        "train_datagen = ImageDataGenerator(\n",
        "    rescale=1.0 / 255.0,\n",
        "    rotation_range=20,\n",
        "    width_shift_range=0.2,\n",
        "    height_shift_range=0.2,\n",
        "    shear_range=0.2,\n",
        "    zoom_range=0.2,\n",
        "    horizontal_flip=True,\n",
        "    fill_mode='nearest'\n",
        ")\n",
        "\n",
        "# Load and augment data\n",
        "train_generator = train_datagen.flow_from_directory(\n",
        "    train_dir,\n",
        "    target_size=image_size,\n",
        "    batch_size=batch_size,\n",
        "    class_mode='binary'\n",
        ")\n",
        "\n",
        "# Create a simple CNN model\n",
        "model = Sequential([\n",
        "    Conv2D(32, (3, 3), activation='relu', input_shape=(image_size[0], image_size[1], 3)),\n",
        "    MaxPooling2D(2, 2),\n",
        "    Conv2D(64, (3, 3), activation='relu'),\n",
        "    MaxPooling2D(2, 2),\n",
        "    Conv2D(128, (3, 3), activation='relu'),\n",
        "    MaxPooling2D(2, 2),\n",
        "    Flatten(),\n",
        "    Dense(128, activation='relu'),\n",
        "    Dense(1, activation='sigmoid')\n",
        "])\n",
        "\n",
        "# Compile the model\n",
        "model.compile(optimizer='adam', loss='binary_crossentropy', metrics=['accuracy'])\n",
        "\n",
        "# Define callbacks\n",
        "early_stopping = EarlyStopping(patience=5, restore_best_weights=True)\n",
        "model_checkpoint = ModelCheckpoint(\"fracture_detection_model.h5\", save_best_only=True)\n",
        "\n",
        "# Train the model\n",
        "history = model.fit(\n",
        "    train_generator,\n",
        "    steps_per_epoch=len(train_generator),\n",
        "    epochs=1,\n",
        "    callbacks=[early_stopping, model_checkpoint]\n",
        ")\n",
        "\n",
        "# Evaluate the model\n",
        "score = model.evaluate(train_generator)\n",
        "print(\"Training Loss:\", score[0])\n",
        "print(\"Training Accuracy:\", score[1])\n",
        "\n",
        "# You can then use the trained model to predict whether an X-ray image shows a fractured bone or not.\n"
      ],
      "metadata": {
        "colab": {
          "base_uri": "https://localhost:8080/"
        },
        "id": "Ce7X4KXm0nS4",
        "outputId": "6f05310e-2fba-4600-f797-24de1859cc9e"
      },
      "execution_count": null,
      "outputs": [
        {
          "output_type": "stream",
          "name": "stdout",
          "text": [
            "Found 9463 images belonging to 2 classes.\n",
            "74/74 [==============================] - ETA: 0s - loss: 0.2388 - accuracy: 0.9265"
          ]
        },
        {
          "output_type": "stream",
          "name": "stderr",
          "text": [
            "WARNING:tensorflow:Early stopping conditioned on metric `val_loss` which is not available. Available metrics are: loss,accuracy\n",
            "WARNING:tensorflow:Can save best model only with val_loss available, skipping.\n"
          ]
        },
        {
          "output_type": "stream",
          "name": "stdout",
          "text": [
            "74/74 [==============================] - 604s 8s/step - loss: 0.2388 - accuracy: 0.9265\n",
            "74/74 [==============================] - 219s 3s/step - loss: 0.2039 - accuracy: 0.9366\n",
            "Training Loss: 0.20386269688606262\n",
            "Training Accuracy: 0.9365951418876648\n"
          ]
        }
      ]
    },
    {
      "cell_type": "code",
      "source": [
        "import tensorflow as tf\n",
        "from tensorflow import keras\n",
        "from tensorflow.keras.preprocessing.image import ImageDataGenerator\n",
        "from tensorflow.keras.layers import Conv2D, MaxPooling2D, Flatten, Dense\n",
        "from tensorflow.keras.models import Sequential\n",
        "from sklearn.model_selection import train_test_split\n",
        "from tensorflow.keras.callbacks import EarlyStopping, ModelCheckpoint\n",
        "from tensorflow.keras.preprocessing.image import load_img, img_to_array\n",
        "import numpy as np\n",
        "\n",
        "# Define data directories\n",
        "data_dir = \"//content//BoneData//Data\"\n",
        "train_dir = data_dir\n",
        "image_size = (150, 150)\n",
        "batch_size = 32\n",
        "\n",
        "# Data Augmentation\n",
        "train_datagen = ImageDataGenerator(\n",
        "    rescale=1.0 / 255.0,\n",
        "    rotation_range=20,\n",
        "    width_shift_range=0.2,\n",
        "    height_shift_range=0.2,\n",
        "    shear_range=0.2,\n",
        "    zoom_range=0.2,\n",
        "    horizontal_flip=True,\n",
        "    fill_mode='nearest'\n",
        ")\n",
        "\n",
        "# Load and augment data\n",
        "train_generator = train_datagen.flow_from_directory(\n",
        "    train_dir,\n",
        "    target_size=image_size,\n",
        "    batch_size=batch_size,\n",
        "    class_mode='binary'\n",
        ")\n",
        "\n",
        "# Create a simple CNN model\n",
        "model = Sequential([\n",
        "    Conv2D(32, (3, 3), activation='relu', input_shape=(image_size[0], image_size[1], 3)),\n",
        "    MaxPooling2D(2, 2),\n",
        "    Conv2D(64, (3, 3), activation='relu'),\n",
        "    MaxPooling2D(2, 2),\n",
        "    Conv2D(128, (3, 3), activation='relu'),\n",
        "    MaxPooling2D(2, 2),\n",
        "    Flatten(),\n",
        "    Dense(128, activation='relu'),\n",
        "    Dense(1, activation='sigmoid')\n",
        "])\n",
        "\n",
        "# Compile the model\n",
        "model.compile(optimizer='adam', loss='binary_crossentropy', metrics=['accuracy'])\n",
        "\n",
        "# Define callbacks\n",
        "early_stopping = EarlyStopping(patience=5, restore_best_weights=True)\n",
        "model_checkpoint = ModelCheckpoint(\"./content/model.h5\", save_best_only=True)\n",
        "\n",
        "\n",
        "# You can then use the trained model to predict whether an X-ray image shows a fractured bone or not.\n",
        "\n",
        "# Function to preprocess and predict an image\n",
        "def predict_fracture(image_path, model):\n",
        "    # Load and preprocess the image\n",
        "    img = load_img(image_path, target_size=(150, 150))\n",
        "    img = img_to_array(img)\n",
        "    img = np.expand_dims(img, axis=0)\n",
        "    img /= 255.0  # Normalize pixel values (assuming 0-255 range)\n",
        "\n",
        "    # Make the prediction\n",
        "    prediction = model.predict(img)\n",
        "\n",
        "    return prediction[0][0]  # Extract the binary classification result\n",
        "\n",
        "# Example usage\n",
        "image_path = \"/content/1.png\"\n",
        "image_path1 = \"/content/1.jpg\"  # Replace with the path to your X-ray image\n",
        "prediction = predict_fracture(image_path, model)\n",
        "prediction1 = predict_fracture(image_path1, model)\n",
        "\n",
        "if prediction > 0.5:\n",
        "    print(\"The X-ray image shows a fractured bone.\")\n",
        "else:\n",
        "    print(\"The X-ray image does not show a fractured bone.\")\n",
        "\n",
        "\n",
        "if prediction1 > 0.5:\n",
        "    print(\"The X-ray image shows a fractured bone.\")\n",
        "else:\n",
        "    print(\"The X-ray image does not show a fractured bone.\")\n"
      ],
      "metadata": {
        "colab": {
          "base_uri": "https://localhost:8080/"
        },
        "id": "4V4EP8Zx5Zw7",
        "outputId": "5bf0634b-2709-4613-b67e-67ec07d2a80e"
      },
      "execution_count": null,
      "outputs": [
        {
          "output_type": "stream",
          "name": "stdout",
          "text": [
            "Found 9463 images belonging to 2 classes.\n",
            "1/1 [==============================] - 0s 100ms/step\n",
            "1/1 [==============================] - 0s 36ms/step\n",
            "The X-ray image shows a fractured bone.\n",
            "The X-ray image shows a fractured bone.\n"
          ]
        }
      ]
    }
  ]
}